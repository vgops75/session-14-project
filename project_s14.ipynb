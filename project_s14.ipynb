{
 "cells": [
  {
   "cell_type": "code",
   "execution_count": 1,
   "id": "3aa33dcf-0a43-4246-a638-7ec47a56606f",
   "metadata": {},
   "outputs": [],
   "source": [
    "import csv\n",
    "from collections import namedtuple\n",
    "from collections import Counter\n",
    "from collections import OrderedDict"
   ]
  },
  {
   "cell_type": "code",
   "execution_count": 2,
   "id": "6f7c4c37-bb81-4ce0-8255-93905797b59f",
   "metadata": {},
   "outputs": [
    {
     "data": {
      "text/plain": [
       "['employer,department,employee_id,ssn\\n',\n",
       " 'Stiedemann-Bailey,Research and Development,29-0890771,100-53-9824\\n',\n",
       " 'Nicolas and Sons,Sales,41-6841359,101-71-4702\\n',\n",
       " 'Connelly Group,Research and Development,98-7952860,101-84-0356\\n',\n",
       " 'Upton LLC,Marketing,56-9817552,104-22-0928\\n']"
      ]
     },
     "execution_count": 2,
     "metadata": {},
     "output_type": "execute_result"
    }
   ],
   "source": [
    "open('employment.csv', 'r').readlines()[:5]"
   ]
  },
  {
   "cell_type": "code",
   "execution_count": 3,
   "id": "b4af06c8-eea0-49a8-8a57-fdde65c58f76",
   "metadata": {},
   "outputs": [
    {
     "data": {
      "text/plain": [
       "['ssn,first_name,last_name,gender,language\\n',\n",
       " '100-53-9824,Sebastiano,Tester,Male,Icelandic\\n',\n",
       " '101-71-4702,Cayla,MacDonagh,Female,Lao\\n',\n",
       " '101-84-0356,Nomi,Lipprose,Female,Yiddish\\n',\n",
       " '104-22-0928,Justinian,Kunzelmann,Male,Dhivehi\\n']"
      ]
     },
     "execution_count": 3,
     "metadata": {},
     "output_type": "execute_result"
    }
   ],
   "source": [
    "open('personal_info.csv', 'r').readlines()[:5]"
   ]
  },
  {
   "cell_type": "code",
   "execution_count": 4,
   "id": "244e27b7-4167-4613-b4ce-611c7ca87601",
   "metadata": {},
   "outputs": [
    {
     "data": {
      "text/plain": [
       "['ssn,last_updated,created\\n',\n",
       " '100-53-9824,2017-10-07T00:14:42Z,2016-01-24T21:19:30Z\\n',\n",
       " '101-71-4702,2017-01-23T11:23:17Z,2016-01-27T04:32:57Z\\n',\n",
       " '101-84-0356,2017-10-04T11:21:30Z,2016-09-21T23:04:07Z\\n',\n",
       " '104-22-0928,2017-03-28T12:38:29Z,2016-04-15T11:37:17Z\\n']"
      ]
     },
     "execution_count": 4,
     "metadata": {},
     "output_type": "execute_result"
    }
   ],
   "source": [
    "open('update_status.csv', 'r').readlines()[:5]"
   ]
  },
  {
   "cell_type": "code",
   "execution_count": 5,
   "id": "f046945d-bb89-4c3b-bce1-c44d55f0957f",
   "metadata": {},
   "outputs": [
    {
     "data": {
      "text/plain": [
       "['ssn,vehicle_make,vehicle_model,model_year\\n',\n",
       " '100-53-9824,Oldsmobile,Bravada,1993\\n',\n",
       " '101-71-4702,Ford,Mustang,1997\\n',\n",
       " '101-84-0356,GMC,Yukon,2005\\n',\n",
       " '104-22-0928,Oldsmobile,Intrigue,2000\\n']"
      ]
     },
     "execution_count": 5,
     "metadata": {},
     "output_type": "execute_result"
    }
   ],
   "source": [
    "open('vehicles.csv', 'r').readlines()[:5]"
   ]
  },
  {
   "cell_type": "code",
   "execution_count": 6,
   "id": "533c2714-56d7-4eef-9fce-599b3fdd6aa0",
   "metadata": {},
   "outputs": [],
   "source": [
    "# Build namedtuples with fields corresponding to the data columns of files. Note 'ssn' is repetitive and is the common link among these separate individual files.\n",
    "\n",
    "Employee = namedtuple('Employee', ('employer', 'department', 'employee_id', 'ssn'))\n",
    "PersonalInfo = namedtuple('PersonalInfo', ('ssn', 'first_name', 'last_name', 'gender', 'language'))\n",
    "UpdateStatus = namedtuple('UpdateStatus', ('ssn', 'last_updated', 'created'))\n",
    "Vehicles = namedtuple('Vehicles', ('ssn', 'vehicle_make', 'vehicle_model', 'model_year'))"
   ]
  },
  {
   "cell_type": "code",
   "execution_count": 7,
   "id": "f2a51538-0fe9-4552-9e64-273f9afa9363",
   "metadata": {},
   "outputs": [],
   "source": [
    "# This is to show how to build a generator to yield a namedtuple with data from the relevant file (here, 'employment.csv')\n",
    "\n",
    "def get_employee():\n",
    "    with open('employment.csv', 'r') as emp:\n",
    "        emp.readline() # ignore the header\n",
    "        reader = csv.reader(emp, delimiter=',')\n",
    "        for item in reader:\n",
    "            yield Employee(*item)"
   ]
  },
  {
   "cell_type": "code",
   "execution_count": 8,
   "id": "de621baf-f22d-4ea8-a194-2173dd0914ac",
   "metadata": {},
   "outputs": [],
   "source": [
    "# define generator to get data from function via next() operator\n",
    "\n",
    "employee_gen = get_employee()"
   ]
  },
  {
   "cell_type": "code",
   "execution_count": 9,
   "id": "491dc5d0-dd87-4769-ae02-3d49ee9538fe",
   "metadata": {},
   "outputs": [
    {
     "data": {
      "text/plain": [
       "Employee(employer='Stiedemann-Bailey', department='Research and Development', employee_id='29-0890771', ssn='100-53-9824')"
      ]
     },
     "execution_count": 9,
     "metadata": {},
     "output_type": "execute_result"
    }
   ],
   "source": [
    "next(employee_gen) # generator yielding next data"
   ]
  },
  {
   "cell_type": "markdown",
   "id": "5ec775a2-211f-4af1-9f6a-3a48298e734b",
   "metadata": {},
   "source": [
    "#### Goal 1: Build generators for each of the datasets (assuming data is aligned across all the 4 files with respect to the field variable 'ssn')"
   ]
  },
  {
   "cell_type": "code",
   "execution_count": 10,
   "id": "7b22fee3-2328-47be-b680-52bd9232fec7",
   "metadata": {},
   "outputs": [],
   "source": [
    "# We can build a common function to build generator yielding data from all files\n",
    "\n",
    "# Arguments 'file' and 'tup_name' correspond to respective filename and the namedtuple (defined to store data from that file).\n",
    "# This common file is named as 'employee_data' as it stores all employee related data\n",
    "\n",
    "def employee_data(file, tup_name):\n",
    "    with open(file, 'r') as f:\n",
    "        f.readline() # ignore the header\n",
    "        reader = csv.reader(f, delimiter=',')\n",
    "        for item in reader:\n",
    "            yield tup_name(*item)"
   ]
  },
  {
   "cell_type": "code",
   "execution_count": 11,
   "id": "9616188d-db4c-4ba7-bee8-c5f770f0d727",
   "metadata": {},
   "outputs": [],
   "source": [
    "# redo the employee_gen generated above (and check we got the same result)\n",
    "employee_generator = employee_data('employment.csv', Employee)"
   ]
  },
  {
   "cell_type": "code",
   "execution_count": 12,
   "id": "19f5944c-eefc-405b-8530-34c4dd2ebf89",
   "metadata": {},
   "outputs": [
    {
     "data": {
      "text/plain": [
       "Employee(employer='Stiedemann-Bailey', department='Research and Development', employee_id='29-0890771', ssn='100-53-9824')"
      ]
     },
     "execution_count": 12,
     "metadata": {},
     "output_type": "execute_result"
    }
   ],
   "source": [
    "next(employee_generator)"
   ]
  },
  {
   "cell_type": "code",
   "execution_count": 13,
   "id": "ddcb4fe2-adbf-4d97-890b-da89454c077d",
   "metadata": {},
   "outputs": [],
   "source": [
    "# Getting Personal Info of the employee\n",
    "\n",
    "pin_gen = employee_data('personal_info.csv', PersonalInfo)"
   ]
  },
  {
   "cell_type": "code",
   "execution_count": 14,
   "id": "1178b2ca-aef3-49c7-8d50-a6a3fa1fa0fa",
   "metadata": {},
   "outputs": [
    {
     "data": {
      "text/plain": [
       "PersonalInfo(ssn='100-53-9824', first_name='Sebastiano', last_name='Tester', gender='Male', language='Icelandic')"
      ]
     },
     "execution_count": 14,
     "metadata": {},
     "output_type": "execute_result"
    }
   ],
   "source": [
    "next(pin_gen)"
   ]
  },
  {
   "cell_type": "code",
   "execution_count": 15,
   "id": "35bb6605-30ab-4e82-8705-924bc36def4b",
   "metadata": {},
   "outputs": [],
   "source": [
    "# Define UpdateStatus data generator\n",
    "\n",
    "sts_gen = employee_data('update_status.csv', UpdateStatus)"
   ]
  },
  {
   "cell_type": "code",
   "execution_count": 16,
   "id": "325e6a61-02c7-40cf-a472-013553127755",
   "metadata": {},
   "outputs": [
    {
     "data": {
      "text/plain": [
       "UpdateStatus(ssn='100-53-9824', last_updated='2017-10-07T00:14:42Z', created='2016-01-24T21:19:30Z')"
      ]
     },
     "execution_count": 16,
     "metadata": {},
     "output_type": "execute_result"
    }
   ],
   "source": [
    "next(sts_gen)"
   ]
  },
  {
   "cell_type": "code",
   "execution_count": 17,
   "id": "d8fc8a78-6513-4b23-bbee-34e2da89d618",
   "metadata": {},
   "outputs": [],
   "source": [
    "# Define vehicle info of employees\n",
    "\n",
    "vhs_gen = employee_data('vehicles.csv', Vehicles)"
   ]
  },
  {
   "cell_type": "code",
   "execution_count": 18,
   "id": "9dd145c5-262d-49b2-aba7-276924dc0867",
   "metadata": {},
   "outputs": [
    {
     "data": {
      "text/plain": [
       "Vehicles(ssn='100-53-9824', vehicle_make='Oldsmobile', vehicle_model='Bravada', model_year='1993')"
      ]
     },
     "execution_count": 18,
     "metadata": {},
     "output_type": "execute_result"
    }
   ],
   "source": [
    "next(vhs_gen)"
   ]
  },
  {
   "cell_type": "code",
   "execution_count": 19,
   "id": "462a519d-0f50-4afb-8e1f-5c06d1a7a44c",
   "metadata": {},
   "outputs": [],
   "source": [
    "# We can also get all the iterators in single yield from multiple generators at once, like this\n",
    "\n",
    "def get_data():\n",
    "    with open('employment.csv', 'r') as emp, open('personal_info.csv', 'r') as pin, open('update_status.csv', 'r') as sts, open('vehicles.csv', 'r') as vhs:\n",
    "        bad_data = f'DataFeedError: Data not matching; need clean-up or sorting based on \"ssn\"'\n",
    "        c_emp = emp.readline().strip().split(',')\n",
    "        c_pin = pin.readline().strip().split(',')\n",
    "        c_sts = sts.readline().strip().split(',')\n",
    "        c_vhs = vhs.readline().strip().split(',')\n",
    "        \n",
    "        rdr_emp = csv.reader(emp, delimiter=',')\n",
    "        rdr_pin = csv.reader(pin, delimiter=',')\n",
    "        rdr_sts = csv.reader(sts, delimiter=',')\n",
    "        rdr_vhs = csv.reader(vhs, delimiter=',')\n",
    "        \n",
    "        for i, j, k, l in zip(rdr_emp, rdr_pin, rdr_sts, rdr_vhs):\n",
    "            if i[3] == j[0] == k[0] == l[0]:\n",
    "                # yield i, j, k, l\n",
    "                yield Employee(*i), PersonalInfo(*j), UpdateStatus(*k), Vehicles(*l)\n",
    "                # yield from (Employee(*next(rdr_emp)), PersonalInfo(*next(rdr_pin)), UpdateStatus(*next(rdr_sts)), Vehicles(*next(rdr_vhs)))\n",
    "            else:\n",
    "                yield bad_data"
   ]
  },
  {
   "cell_type": "code",
   "execution_count": 20,
   "id": "89beeefc-b5ee-4c89-96ce-ebf3f9063ddf",
   "metadata": {},
   "outputs": [],
   "source": [
    "data_gen = iter(get_data())"
   ]
  },
  {
   "cell_type": "code",
   "execution_count": 21,
   "id": "389dd62a-ef59-4c9a-b1df-d354be1fc5b4",
   "metadata": {},
   "outputs": [
    {
     "data": {
      "text/plain": [
       "(Employee(employer='Stiedemann-Bailey', department='Research and Development', employee_id='29-0890771', ssn='100-53-9824'),\n",
       " PersonalInfo(ssn='100-53-9824', first_name='Sebastiano', last_name='Tester', gender='Male', language='Icelandic'),\n",
       " UpdateStatus(ssn='100-53-9824', last_updated='2017-10-07T00:14:42Z', created='2016-01-24T21:19:30Z'),\n",
       " Vehicles(ssn='100-53-9824', vehicle_make='Oldsmobile', vehicle_model='Bravada', model_year='1993'))"
      ]
     },
     "execution_count": 21,
     "metadata": {},
     "output_type": "execute_result"
    }
   ],
   "source": [
    "next(data_gen)"
   ]
  },
  {
   "cell_type": "markdown",
   "id": "4e3fbc5c-ab5b-496b-9b1a-a967d9b17390",
   "metadata": {},
   "source": [
    "#### Goal 2: Create a single iterable that combines all the columns from all the iterators."
   ]
  },
  {
   "cell_type": "markdown",
   "id": "3250d1c1-779f-49d1-a9e1-5ab9fd61ec04",
   "metadata": {},
   "source": [
    "Member is the namedtuple that carries all the field variables present disjointly in individual dataset of 4 files supplied. The order of fields were slightly modified to represent the data in a better format i.e., member's first name and last name comes before employment details. The field 'ssn' is kept as a first field, just in case, if we were required to use a dictionary later, we can just use the first field (0), without having to count for index value. If the data coming from files are not synchronized with respect to the field 'ssn', then function yields feed data error."
   ]
  },
  {
   "cell_type": "code",
   "execution_count": 22,
   "id": "f15f35ca-acdb-4454-aceb-89ddc402f9df",
   "metadata": {},
   "outputs": [],
   "source": [
    "Member = namedtuple('Member', ('ssn', 'first_name', 'last_name', 'gender', 'employer', 'department', 'employee_id', 'language', 'vehicle_make', 'vehicle_model', 'model_year', 'created', 'last_updated'))\n",
    "\n",
    "def person_data():\n",
    "    for item in get_data():\n",
    "        bad_data = f'DataFeedError: Data not matching; need clean-up or sorting based on \"ssn\"'\n",
    "        if isinstance(item, tuple):\n",
    "            i, j, k, l = item\n",
    "            if i.ssn == j.ssn == k.ssn == l.ssn:\n",
    "                yield Member(i.ssn, j.first_name, j.last_name, j.gender, i.employer, i.department, i.employee_id, j.language, l.vehicle_make, l.vehicle_model, l.model_year, k.created, k.last_updated)\n",
    "        else:\n",
    "            yield bad_data"
   ]
  },
  {
   "cell_type": "code",
   "execution_count": 23,
   "id": "153acbf8-7dfe-4280-92ee-8e8cb6bd3825",
   "metadata": {},
   "outputs": [],
   "source": [
    "person = person_data()"
   ]
  },
  {
   "cell_type": "code",
   "execution_count": 24,
   "id": "98d7424c-5841-4c04-8c5d-2456d4fd0667",
   "metadata": {},
   "outputs": [
    {
     "data": {
      "text/plain": [
       "Member(ssn='100-53-9824', first_name='Sebastiano', last_name='Tester', gender='Male', employer='Stiedemann-Bailey', department='Research and Development', employee_id='29-0890771', language='Icelandic', vehicle_make='Oldsmobile', vehicle_model='Bravada', model_year='1993', created='2016-01-24T21:19:30Z', last_updated='2017-10-07T00:14:42Z')"
      ]
     },
     "execution_count": 24,
     "metadata": {},
     "output_type": "execute_result"
    }
   ],
   "source": [
    "next(person)"
   ]
  },
  {
   "cell_type": "code",
   "execution_count": 25,
   "id": "790cbfcc-8acc-40ee-92d2-a25ec5a0502e",
   "metadata": {
    "tags": []
   },
   "outputs": [],
   "source": [
    "# This function outputs the next 5 persons from the person_data().\n",
    "\n",
    "def get_next_5_persons(start=0, end=5):\n",
    "    n = 0\n",
    "    person = person_data()\n",
    "    for item in person:\n",
    "        n += 1\n",
    "        # print(f'n = {n}')\n",
    "        if n > start:\n",
    "            print(item,'\\n')\n",
    "        if n >= end:\n",
    "            break       "
   ]
  },
  {
   "cell_type": "code",
   "execution_count": 26,
   "id": "6837ab5e-bb65-4e77-b512-174fd06ccf1d",
   "metadata": {
    "collapsed": true,
    "jupyter": {
     "outputs_hidden": true
    },
    "tags": []
   },
   "outputs": [
    {
     "name": "stdout",
     "output_type": "stream",
     "text": [
      "Member(ssn='100-53-9824', first_name='Sebastiano', last_name='Tester', gender='Male', employer='Stiedemann-Bailey', department='Research and Development', employee_id='29-0890771', language='Icelandic', vehicle_make='Oldsmobile', vehicle_model='Bravada', model_year='1993', created='2016-01-24T21:19:30Z', last_updated='2017-10-07T00:14:42Z') \n",
      "\n",
      "Member(ssn='101-71-4702', first_name='Cayla', last_name='MacDonagh', gender='Female', employer='Nicolas and Sons', department='Sales', employee_id='41-6841359', language='Lao', vehicle_make='Ford', vehicle_model='Mustang', model_year='1997', created='2016-01-27T04:32:57Z', last_updated='2017-01-23T11:23:17Z') \n",
      "\n",
      "Member(ssn='101-84-0356', first_name='Nomi', last_name='Lipprose', gender='Female', employer='Connelly Group', department='Research and Development', employee_id='98-7952860', language='Yiddish', vehicle_make='GMC', vehicle_model='Yukon', model_year='2005', created='2016-09-21T23:04:07Z', last_updated='2017-10-04T11:21:30Z') \n",
      "\n",
      "Member(ssn='104-22-0928', first_name='Justinian', last_name='Kunzelmann', gender='Male', employer='Upton LLC', department='Marketing', employee_id='56-9817552', language='Dhivehi', vehicle_make='Oldsmobile', vehicle_model='Intrigue', model_year='2000', created='2016-04-15T11:37:17Z', last_updated='2017-03-28T12:38:29Z') \n",
      "\n",
      "Member(ssn='104-84-7144', first_name='Claudianus', last_name='Brixey', gender='Male', employer='Zemlak-Olson', department='Business Development', employee_id='46-2886707', language='Afrikaans', vehicle_make='Ford', vehicle_model='Crown Victoria', model_year='2008', created='2016-03-15T14:07:57Z', last_updated='2018-02-19T01:34:33Z') \n",
      "\n"
     ]
    }
   ],
   "source": [
    "get_next_5_persons(start=0, end=5)"
   ]
  },
  {
   "cell_type": "markdown",
   "id": "3d07b3d0-68de-4e6d-86a0-5714cbaf556b",
   "metadata": {},
   "source": [
    "#### Goal 3: Identify any stale records, where stale simply means the record has not been updated since 3/1/2017 (e.g. last update date < 3/1/2017). Create an iterator that only contains current records (i.e. not stale) based on the last_updated field from the status_update file."
   ]
  },
  {
   "cell_type": "code",
   "execution_count": 27,
   "id": "91bcaf40-79d3-460e-979d-6723b24393b4",
   "metadata": {},
   "outputs": [],
   "source": [
    "def current_members():\n",
    "    from datetime import datetime\n",
    "    for item in person_data():\n",
    "        update_date = item.last_updated\n",
    "        create_date = item.created\n",
    "        item = item._replace(\n",
    "            last_updated = datetime.strptime(update_date, '%Y-%m-%dT%H:%M:%SZ'),\n",
    "            created = datetime.strptime(create_date, '%Y-%m-%dT%H:%M:%SZ'))\n",
    "        if item.last_updated > datetime(2017, 1, 3):\n",
    "            yield item "
   ]
  },
  {
   "cell_type": "code",
   "execution_count": 28,
   "id": "f7ff3be0-d6ef-4951-a37e-e4682e0abd16",
   "metadata": {},
   "outputs": [],
   "source": [
    "cur_members = current_members()"
   ]
  },
  {
   "cell_type": "code",
   "execution_count": 29,
   "id": "2327237d-8443-43f5-98c1-3a4bd090cb99",
   "metadata": {},
   "outputs": [
    {
     "data": {
      "text/plain": [
       "Member(ssn='100-53-9824', first_name='Sebastiano', last_name='Tester', gender='Male', employer='Stiedemann-Bailey', department='Research and Development', employee_id='29-0890771', language='Icelandic', vehicle_make='Oldsmobile', vehicle_model='Bravada', model_year='1993', created=datetime.datetime(2016, 1, 24, 21, 19, 30), last_updated=datetime.datetime(2017, 10, 7, 0, 14, 42))"
      ]
     },
     "execution_count": 29,
     "metadata": {},
     "output_type": "execute_result"
    }
   ],
   "source": [
    "next(cur_members)"
   ]
  },
  {
   "cell_type": "markdown",
   "id": "8d5f5fb5-66cc-4449-a48d-94ae7caefca9",
   "metadata": {},
   "source": [
    "#### Goal 4: Find the largest group of car makes for each gender.\n",
    "\n",
    "Possibly more than one such group per gender exists (equal sizes)."
   ]
  },
  {
   "cell_type": "code",
   "execution_count": 30,
   "id": "409ea819-edf8-48a4-bb8c-20ed9fd84964",
   "metadata": {},
   "outputs": [],
   "source": [
    "def carmake_per_gender(func, gender):\n",
    "    data = [Member._make(member).vehicle_make for member in func() if member.gender==gender]\n",
    "    # print(len(data))\n",
    "    return Counter(data)"
   ]
  },
  {
   "cell_type": "code",
   "execution_count": 31,
   "id": "d784ae65-ce6c-446d-88a6-e1d14db8d5f6",
   "metadata": {},
   "outputs": [],
   "source": [
    "cars_by_female = carmake_per_gender(current_members, 'Female')"
   ]
  },
  {
   "cell_type": "code",
   "execution_count": 32,
   "id": "898a9070-5cf9-444c-bdfd-24ce0d594744",
   "metadata": {},
   "outputs": [],
   "source": [
    "cars_by_male = carmake_per_gender(current_members, 'Male')"
   ]
  },
  {
   "cell_type": "code",
   "execution_count": 33,
   "id": "19da6e11-4b65-4281-b115-61fe4a785509",
   "metadata": {},
   "outputs": [
    {
     "data": {
      "text/plain": [
       "[('Ford', 48), ('Chevrolet', 47), ('Mitsubishi', 25)]"
      ]
     },
     "execution_count": 33,
     "metadata": {},
     "output_type": "execute_result"
    }
   ],
   "source": [
    "# print 3 most common carmakes owned by female members\n",
    "\n",
    "cars_by_female.most_common(3)"
   ]
  },
  {
   "cell_type": "code",
   "execution_count": 34,
   "id": "3b581569-9a9e-4c35-ade0-e7a613295409",
   "metadata": {},
   "outputs": [
    {
     "data": {
      "text/plain": [
       "[('Ford', 44), ('Chevrolet', 38), ('GMC', 31)]"
      ]
     },
     "execution_count": 34,
     "metadata": {},
     "output_type": "execute_result"
    }
   ],
   "source": [
    "# print 3 most common carmakes owned by male members\n",
    "\n",
    "cars_by_male.most_common(3)"
   ]
  },
  {
   "cell_type": "markdown",
   "id": "5b043289-2e83-42cb-8d35-032432669b74",
   "metadata": {},
   "source": [
    "Ford is the largest carmake of the cars owned by male and female members."
   ]
  },
  {
   "cell_type": "code",
   "execution_count": 35,
   "id": "7f95dfb8-d12e-45cf-a788-56272899a67d",
   "metadata": {},
   "outputs": [],
   "source": [
    "male_cars = set(list(cars_by_male.keys()))\n",
    "female_cars = set(list(cars_by_female.keys()))"
   ]
  },
  {
   "cell_type": "code",
   "execution_count": 36,
   "id": "2c9e6f87-11cf-4a1c-98e6-76aef693a2d7",
   "metadata": {},
   "outputs": [
    {
     "data": {
      "text/plain": [
       "{'Aptera', 'Corbin', 'Daewoo', 'Hummer', 'Jensen', 'Maserati', 'Maybach'}"
      ]
     },
     "execution_count": 36,
     "metadata": {},
     "output_type": "execute_result"
    }
   ],
   "source": [
    "male_cars - female_cars # carmakes owned by male but not by female"
   ]
  },
  {
   "cell_type": "code",
   "execution_count": 37,
   "id": "080c6663-858d-4ba3-bfac-06f897797553",
   "metadata": {},
   "outputs": [
    {
     "data": {
      "text/plain": [
       "{'Bugatti', 'Morgan'}"
      ]
     },
     "execution_count": 37,
     "metadata": {},
     "output_type": "execute_result"
    }
   ],
   "source": [
    "female_cars - male_cars # carmakes owned by female but not by male"
   ]
  }
 ],
 "metadata": {
  "kernelspec": {
   "display_name": "Python 3",
   "language": "python",
   "name": "python3"
  },
  "language_info": {
   "codemirror_mode": {
    "name": "ipython",
    "version": 3
   },
   "file_extension": ".py",
   "mimetype": "text/x-python",
   "name": "python",
   "nbconvert_exporter": "python",
   "pygments_lexer": "ipython3",
   "version": "3.7.7"
  }
 },
 "nbformat": 4,
 "nbformat_minor": 5
}
